{
 "cells": [
  {
   "cell_type": "markdown",
   "metadata": {},
   "source": [
    "# Repetition Group 4: Mutability and Immutability, by Gabriel and Robin\n",
    "## Definition\n",
    "<blockquote>Mutability is the capability of an object to be changed after it as been iniated / instantiated. </blockquote>\n",
    "<p>\n",
    "Why? - To prevend other users from messing with the data.</p>\n",
    "<p style=\"color: red\">\n",
    "NB: Immutables like tuples can contain mutables like lists. The mutable inside the immutable can then be changed.\n",
    "</p>\n",
    "<p>\n",
    "Since everything in Python is an Object, every variable holds an object instance. When an object is <strong>initiated</strong>, it is assigned <strong>a unique object id</strong>. Its type is defined at runtime and once set can <strong>never change</strong>, however its <strong>state can be changed</strong> if it is mutable.\n",
    "</p>\n",
    "\n",
    "<p>\n",
    "Helpful function: \n",
    "    The built-in function <strong>id()</strong> returns the identity of an object as an integer.\n",
    "</p>\n",
    "\n",
    "## Questions\n"
   ]
  },
  {
   "cell_type": "code",
   "execution_count": null,
   "metadata": {},
   "outputs": [],
   "source": [
    "y = 2\n",
    "x = 1\n",
    "x = y\n",
    "print(id(x) == id(y))\n",
    "print(id(y) == id(2))\n",
    "print(id(x) == id(2))\n",
    "print(id(x), id(y), id(2))"
   ]
  },
  {
   "cell_type": "code",
   "execution_count": null,
   "metadata": {},
   "outputs": [],
   "source": [
    "print(id(x) == id(y))\n",
    "x += 1\n",
    "print(id(x) == id(y))"
   ]
  },
  {
   "cell_type": "code",
   "execution_count": null,
   "metadata": {},
   "outputs": [],
   "source": [
    "my_list = [0, 1, 2]\n",
    "print(id(my_list))\n",
    "my_list.append(3)\n",
    "print(id(my_list))\n",
    "my_list[0] = 9\n",
    "print(id(my_list))"
   ]
  },
  {
   "cell_type": "markdown",
   "metadata": {},
   "source": [
    "## Additional questions for later today\n",
    "\n",
    "Think about (and make an educated guess) what the output of print() will be."
   ]
  },
  {
   "cell_type": "code",
   "execution_count": null,
   "metadata": {},
   "outputs": [],
   "source": [
    "def updateList(list1):\n",
    "    list1 += [10]\n",
    "    #return list1\n",
    "n = [5, 6]\n",
    "print(id(n))\n",
    "updateList(n)\n",
    "print(n)\n",
    "print(id(n))"
   ]
  },
  {
   "cell_type": "code",
   "execution_count": null,
   "metadata": {},
   "outputs": [],
   "source": [
    "def updateNumber(n):\n",
    "    print(id(n))\n",
    "    n += 10\n",
    "    return n\n",
    "b = 5\n",
    "print(id(b))\n",
    "updateNumber(b)                \n",
    "print(b)                  "
   ]
  },
  {
   "cell_type": "code",
   "execution_count": null,
   "metadata": {},
   "outputs": [],
   "source": []
  }
 ],
 "metadata": {
  "kernelspec": {
   "display_name": "Python [conda env:nf] *",
   "language": "python",
   "name": "conda-env-nf-py"
  },
  "language_info": {
   "codemirror_mode": {
    "name": "ipython",
    "version": 3
   },
   "file_extension": ".py",
   "mimetype": "text/x-python",
   "name": "python",
   "nbconvert_exporter": "python",
   "pygments_lexer": "ipython3",
   "version": "3.6.6"
  }
 },
 "nbformat": 4,
 "nbformat_minor": 2
}
